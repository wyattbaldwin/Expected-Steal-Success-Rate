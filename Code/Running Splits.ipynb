{
 "cells": [
  {
   "cell_type": "code",
   "execution_count": 1,
   "id": "c1b3e772",
   "metadata": {},
   "outputs": [],
   "source": [
    "import pandas as pd"
   ]
  },
  {
   "cell_type": "code",
   "execution_count": 19,
   "id": "331c4961",
   "metadata": {},
   "outputs": [],
   "source": [
    "# Load data from spreadsheet\n",
    "data = pd.read_csv(\"running_splits.csv\")"
   ]
  },
  {
   "cell_type": "code",
   "execution_count": 20,
   "id": "b16cf18a",
   "metadata": {},
   "outputs": [
    {
     "name": "stdout",
     "output_type": "stream",
     "text": [
      "Index(['last_name', ' first_name', 'player_id', 'name_abbrev', 'team_id',\n",
      "       'position_name', 'age', 'bat_side', 'time_at_00ft', 'time_at_05ft',\n",
      "       'time_at_10ft', 'time_at_15ft', 'time_at_20ft', 'time_at_25ft',\n",
      "       'time_at_30ft', 'time_at_35ft', 'time_at_40ft', 'time_at_45ft',\n",
      "       'time_at_50ft', 'time_at_55ft', 'time_at_60ft', 'time_at_65ft',\n",
      "       'time_at_70ft', 'time_at_75ft', 'time_at_80ft', 'time_at_85ft',\n",
      "       'time_at_90ft'],\n",
      "      dtype='object')\n"
     ]
    }
   ],
   "source": [
    "# print the column names\n",
    "print(data.columns)"
   ]
  },
  {
   "cell_type": "code",
   "execution_count": 22,
   "id": "a1794110",
   "metadata": {},
   "outputs": [],
   "source": [
    "# drop the column 'time_at_00ft'\n",
    "data.drop(columns=['time_at_00ft'], inplace=True)"
   ]
  },
  {
   "cell_type": "code",
   "execution_count": 25,
   "id": "ee572aec",
   "metadata": {},
   "outputs": [],
   "source": [
    "# Define the function to calculate the time at an unknown distance\n",
    "def interpolate_time(player_name, distance):\n",
    "\n",
    "    # Filter the data for the player\n",
    "    player_data = data[data[\"last_name\"] == player_name]\n",
    "    \n",
    "    # Check if the player is present in the data\n",
    "    if player_data.empty:\n",
    "        print(\"Player not found in the data\")\n",
    "        return\n",
    "    \n",
    "    # Find the two known distances in feet that surround the unknown distance\n",
    "    distances = [col for col in player_data.columns if \"time_at\" in col]\n",
    "    distances = [float(d.replace(\"time_at_\", \"\").replace(\"ft\", \"\")) for d in distances]\n",
    "    distances.sort()\n",
    "    idx = min([i for i in range(len(distances)) if distances[i]>=distance])\n",
    "    if idx == 0:\n",
    "        print(\"The input distance is lower than the minimum known distance\")\n",
    "        return\n",
    "    if idx == len(distances):\n",
    "        print(\"The input distance is higher than the maximum known distance\")\n",
    "        return\n",
    "    lower_distance = distances[idx-1]\n",
    "    upper_distance = distances[idx]\n",
    "\n",
    "    # Use the corresponding known times to calculate the time at the unknown distance\n",
    "    lower_time = player_data[f\"time_at_{str(int(lower_distance))}ft\"].values[0]\n",
    "    upper_time = player_data[f\"time_at_{str(int(upper_distance))}ft\"].values[0]\n",
    "    interpolated_time = lower_time + (upper_time - lower_time) * (distance - lower_distance) / (upper_distance - lower_distance)\n",
    "    \n",
    "    return interpolated_time"
   ]
  },
  {
   "cell_type": "code",
   "execution_count": 26,
   "id": "a9250ffe",
   "metadata": {},
   "outputs": [
    {
     "name": "stdout",
     "output_type": "stream",
     "text": [
      "Enter player last name: Abreu\n",
      "Enter the distance in feet: 83\n",
      "The estimated time for player Abreu to reach 83.0ft is 3.944 seconds.\n"
     ]
    }
   ],
   "source": [
    "# Test the function\n",
    "player_name = input(\"Enter player last name: \")\n",
    "distance = float(input(\"Enter the distance in feet: \"))\n",
    "time = interpolate_time(player_name, distance)\n",
    "if time is not None:\n",
    "    print(f\"The estimated time for player {player_name} to reach {distance}ft is {time} seconds.\")"
   ]
  },
  {
   "cell_type": "code",
   "execution_count": null,
   "id": "267d2681",
   "metadata": {},
   "outputs": [],
   "source": []
  }
 ],
 "metadata": {
  "kernelspec": {
   "display_name": "Python 3 (ipykernel)",
   "language": "python",
   "name": "python3"
  },
  "language_info": {
   "codemirror_mode": {
    "name": "ipython",
    "version": 3
   },
   "file_extension": ".py",
   "mimetype": "text/x-python",
   "name": "python",
   "nbconvert_exporter": "python",
   "pygments_lexer": "ipython3",
   "version": "3.9.12"
  }
 },
 "nbformat": 4,
 "nbformat_minor": 5
}
