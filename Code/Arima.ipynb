{
 "cells": [
  {
   "cell_type": "code",
   "execution_count": 11,
   "id": "eb7a54bb",
   "metadata": {},
   "outputs": [
    {
     "name": "stderr",
     "output_type": "stream",
     "text": [
      "C:\\Users\\Wyatt Baldwin\\anaconda3\\lib\\site-packages\\pybaseball\\league_batting_stats.py:70: FutureWarning: In a future version of pandas all arguments of DataFrame.drop except for the argument 'labels' will be keyword-only.\n",
      "  table = table.drop('', 1)\n"
     ]
    }
   ],
   "source": [
    "import pandas as pd\n",
    "from statsmodels.tsa.arima.model import ARIMA\n",
    "from pybaseball import batting_stats_range\n",
    "from pybaseball import cache\n",
    "\n",
    "cache.enable()\n",
    "\n",
    "# Get batting stats for specified time range from PyBaseball\n",
    "data = batting_stats_range(start_dt='2015-03-01', end_dt='2022-12-31')"
   ]
  },
  {
   "cell_type": "code",
   "execution_count": 12,
   "id": "3c27e393",
   "metadata": {},
   "outputs": [
    {
     "name": "stdout",
     "output_type": "stream",
     "text": [
      "Enter player name: Mike Trout\n"
     ]
    }
   ],
   "source": [
    "# Get the player's data for player_name from the data\n",
    "player_name = input(\"Enter player name: \")\n",
    "player_data = data[data[\"Name\"] == player_name]"
   ]
  },
  {
   "cell_type": "code",
   "execution_count": 13,
   "id": "273036d6",
   "metadata": {},
   "outputs": [],
   "source": [
    "# Filter data to only keep the Name, Age and SB columns\n",
    "player_data = player_data[[\"Name\", \"Age\", \"SB\"]]"
   ]
  },
  {
   "cell_type": "code",
   "execution_count": 14,
   "id": "0243ae72",
   "metadata": {},
   "outputs": [
    {
     "name": "stderr",
     "output_type": "stream",
     "text": [
      "C:\\Users\\Wyatt Baldwin\\anaconda3\\lib\\site-packages\\statsmodels\\tsa\\base\\tsa_model.py:471: ValueWarning: An unsupported index was provided and will be ignored when e.g. forecasting.\n",
      "  self._init_dates(dates, freq)\n",
      "C:\\Users\\Wyatt Baldwin\\anaconda3\\lib\\site-packages\\statsmodels\\tsa\\base\\tsa_model.py:471: ValueWarning: An unsupported index was provided and will be ignored when e.g. forecasting.\n",
      "  self._init_dates(dates, freq)\n",
      "C:\\Users\\Wyatt Baldwin\\anaconda3\\lib\\site-packages\\statsmodels\\tsa\\base\\tsa_model.py:471: ValueWarning: An unsupported index was provided and will be ignored when e.g. forecasting.\n",
      "  self._init_dates(dates, freq)\n",
      "C:\\Users\\Wyatt Baldwin\\anaconda3\\lib\\site-packages\\statsmodels\\tsa\\statespace\\sarimax.py:866: UserWarning: Too few observations to estimate starting parameters for ARMA and trend. All parameters except for variances will be set to zeros.\n",
      "  warn('Too few observations to estimate starting parameters%s.'\n",
      "C:\\Users\\Wyatt Baldwin\\anaconda3\\lib\\site-packages\\statsmodels\\tsa\\statespace\\mlemodel.py:1234: RuntimeWarning: invalid value encountered in true_divide\n",
      "  np.inner(score_obs, score_obs) /\n"
     ]
    }
   ],
   "source": [
    "# Train an ARIMA model on the player's data\n",
    "model = ARIMA(player_data[\"SB\"], order=(1,1,1))\n",
    "model_fit = model.fit()"
   ]
  },
  {
   "cell_type": "code",
   "execution_count": 15,
   "id": "826ba2ee",
   "metadata": {},
   "outputs": [
    {
     "name": "stderr",
     "output_type": "stream",
     "text": [
      "C:\\Users\\Wyatt Baldwin\\anaconda3\\lib\\site-packages\\statsmodels\\tsa\\base\\tsa_model.py:834: ValueWarning: No supported index is available. Prediction results will be given with an integer index beginning at `start`.\n",
      "  return get_prediction_index(\n"
     ]
    }
   ],
   "source": [
    "# Predict the player's stolen bases for 2023\n",
    "predictions = model_fit.predict(start=len(player_data), end=len(player_data) + 11)"
   ]
  },
  {
   "cell_type": "code",
   "execution_count": 16,
   "id": "62e05a0d",
   "metadata": {},
   "outputs": [
    {
     "name": "stdout",
     "output_type": "stream",
     "text": [
      "Predictions for 2023:  1     102.0\n",
      "2     102.0\n",
      "3     102.0\n",
      "4     102.0\n",
      "5     102.0\n",
      "6     102.0\n",
      "7     102.0\n",
      "8     102.0\n",
      "9     102.0\n",
      "10    102.0\n",
      "11    102.0\n",
      "12    102.0\n",
      "Name: predicted_mean, dtype: float64\n"
     ]
    }
   ],
   "source": [
    "# Print the predictions\n",
    "print(\"Predictions for 2023: \", predictions)"
   ]
  },
  {
   "cell_type": "code",
   "execution_count": null,
   "id": "f91ada7d",
   "metadata": {},
   "outputs": [],
   "source": []
  }
 ],
 "metadata": {
  "kernelspec": {
   "display_name": "Python 3 (ipykernel)",
   "language": "python",
   "name": "python3"
  },
  "language_info": {
   "codemirror_mode": {
    "name": "ipython",
    "version": 3
   },
   "file_extension": ".py",
   "mimetype": "text/x-python",
   "name": "python",
   "nbconvert_exporter": "python",
   "pygments_lexer": "ipython3",
   "version": "3.9.12"
  }
 },
 "nbformat": 4,
 "nbformat_minor": 5
}
