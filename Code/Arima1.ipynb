{
 "cells": [
  {
   "cell_type": "code",
   "execution_count": 17,
   "id": "eb7a54bb",
   "metadata": {},
   "outputs": [
    {
     "name": "stderr",
     "output_type": "stream",
     "text": [
      "C:\\Users\\Wyatt Baldwin\\anaconda3\\lib\\site-packages\\pybaseball\\league_batting_stats.py:70: FutureWarning: In a future version of pandas all arguments of DataFrame.drop except for the argument 'labels' will be keyword-only.\n",
      "  table = table.drop('', 1)\n"
     ]
    }
   ],
   "source": [
    "import pandas as pd\n",
    "import numpy as np\n",
    "from pybaseball import batting_stats_range\n",
    "from pybaseball import cache\n",
    "from statsmodels.tsa.arima.model import ARIMA\n",
    "from statsmodels.tsa.stattools import adfuller\n",
    "from statsmodels.graphics.tsaplots import plot_acf, plot_pacf\n",
    "\n",
    "cache.enable()\n",
    "\n",
    "# Get batting stats for specified time range from PyBaseball\n",
    "data = batting_stats_range(start_dt='2015-03-01', end_dt='2022-12-31')"
   ]
  },
  {
   "cell_type": "code",
   "execution_count": 26,
   "id": "3c27e393",
   "metadata": {},
   "outputs": [],
   "source": [
    "# Group data by Name\n",
    "grouped_data = data.groupby(by='Name').mean()\n",
    "grouped_data.reset_index(inplace=True)"
   ]
  },
  {
   "cell_type": "code",
   "execution_count": 32,
   "id": "00e281ca",
   "metadata": {},
   "outputs": [
    {
     "name": "stdout",
     "output_type": "stream",
     "text": [
      "                               Name   Age   #days      G      PA      AB  \\\n",
      "0                      A.J. Burnett  38.0  2681.0   24.0    52.0    42.0   \n",
      "1                         A.J. Cole  26.0  1760.0   19.0    30.0    26.0   \n",
      "2                        A.J. Ellis  37.0  1588.0  240.0   759.0   646.0   \n",
      "3                      A.J. Griffin  29.0  2006.0    3.0     8.0     7.0   \n",
      "4                      A.J. Jimenez  27.0  1952.0    7.0    13.0    12.0   \n",
      "...                             ...   ...     ...    ...     ...     ...   \n",
      "2383                   Zack Littell  25.0   504.0    4.0     4.0     4.0   \n",
      "2384                     Zack Short  27.0   158.0   67.0   197.0   165.0   \n",
      "2385                   Zack Wheeler  31.0   494.0  102.0   226.0   208.0   \n",
      "2386      \\xc3\\x81ngel Pag\\xc3\\xa1n  34.0  2316.0  262.0  1093.0  1006.0   \n",
      "2387  \\xc3\\x93scar Hern\\xc3\\xa1ndez  26.0   917.0   25.0    51.0    46.0   \n",
      "\n",
      "          R      H    2B   3B  ...    SH   SF   GDP    SB   CS     BA    OBP  \\\n",
      "0       1.0    5.0   0.0  0.0  ...   9.0  1.0   1.0   0.0  0.0  0.119  0.116   \n",
      "1       1.0    3.0   0.0  0.0  ...   2.0  0.0   2.0   0.0  0.0  0.115  0.179   \n",
      "2      71.0  151.0  30.0  0.0  ...  11.0  3.0  17.0   2.0  1.0  0.234  0.334   \n",
      "3       0.0    0.0   0.0  0.0  ...   0.0  0.0   0.0   0.0  0.0  0.000  0.125   \n",
      "4       0.0    1.0   0.0  0.0  ...   1.0  0.0   1.0   0.0  0.0  0.083  0.083   \n",
      "...     ...    ...   ...  ...  ...   ...  ...   ...   ...  ...    ...    ...   \n",
      "2383    0.0    1.0   0.0  0.0  ...   0.0  0.0   0.0   0.0  0.0  0.250  0.250   \n",
      "2384   23.0   22.0   4.0  0.0  ...   0.0  8.0   4.0   3.0  0.0  0.133  0.234   \n",
      "2385   11.0   36.0   7.0  0.0  ...  12.0  1.0   2.0   0.0  0.0  0.173  0.192   \n",
      "2386  126.0  271.0  45.0  8.0  ...   0.0  9.0  23.0  27.0  5.0  0.269  0.317   \n",
      "2387    6.0    9.0   1.0  0.0  ...   1.0  0.0   2.0   0.0  0.0  0.196  0.260   \n",
      "\n",
      "        SLG    OPS     mlbID  \n",
      "0     0.191  0.307  150359.0  \n",
      "1     0.231  0.409  595918.0  \n",
      "2     0.355  0.689  454560.0  \n",
      "3     0.000  0.125  456167.0  \n",
      "4     0.083  0.167  543362.0  \n",
      "...     ...    ...       ...  \n",
      "2383  0.250  0.500  641793.0  \n",
      "2384  0.267  0.500  670097.0  \n",
      "2385  0.221  0.413  554430.0  \n",
      "2386  0.375  0.692  434636.0  \n",
      "2387  0.283  0.543  591712.0  \n",
      "\n",
      "[2388 rows x 26 columns]\n"
     ]
    }
   ],
   "source": [
    "print(grouped_data)"
   ]
  },
  {
   "cell_type": "code",
   "execution_count": 38,
   "id": "273036d6",
   "metadata": {},
   "outputs": [
    {
     "ename": "IndentationError",
     "evalue": "expected an indented block (3254645267.py, line 42)",
     "output_type": "error",
     "traceback": [
      "\u001b[1;36m  Input \u001b[1;32mIn [38]\u001b[1;36m\u001b[0m\n\u001b[1;33m    print(f\"No data found for player {player_name}.\")\u001b[0m\n\u001b[1;37m    ^\u001b[0m\n\u001b[1;31mIndentationError\u001b[0m\u001b[1;31m:\u001b[0m expected an indented block\n"
     ]
    }
   ],
   "source": [
    "def predict_stats(player_name):\n",
    "    # Filter data for the player\n",
    "    player_data = grouped_data[grouped_data['Name'] == player_name]\n",
    "    \n",
    "    # Get the oldest age for the player\n",
    "    oldest_age = player_data['Age'].min().astype(int)\n",
    "    \n",
    "    # Get SB and CS data for the player\n",
    "    sb_cs_data = player_data[['SB', 'CS']]\n",
    "    sb_cs_data.index = pd.date_range(start='2015-03-01', end='2022-12-31', freq='A')\n",
    "    sb_cs_data = sb_cs_data.resample('D').interpolate()\n",
    "    \n",
    "    # Check if the time series is stationary\n",
    "    result = adfuller(sb_cs_data['SB'])\n",
    "    print(f'ADF Statistic for SB: {result[0]}')\n",
    "    print(f'p-value for SB: {result[1]}')\n",
    "    if result[1] <= 0.05:\n",
    "        print(\"SB time series is stationary.\")\n",
    "    else:\n",
    "        print(\"SB time series is not stationary.\")\n",
    "        \n",
    "    result = adfuller(sb_cs_data['CS'])\n",
    "    print(f'ADF Statistic for CS: {result[0]}')\n",
    "    print(f'p-value for CS: {result[1]}')\n",
    "    if result[1] <= 0.05:\n",
    "        print(\"CS time series is stationary.\")\n",
    "    else:\n",
    "        print(\"CS time series is not stationary.\")\n",
    "    \n",
    "    # Plot ACF and PACF to determine AR and MA terms\n",
    "    plot_acf(sb_cs_data['SB'], lags=40)\n",
    "    plot_pacf(sb_cs_data['SB'], lags=40)\n",
    "    plot_acf(sb_cs_data['CS'], lags=40)\n",
    "    plot_pacf(sb_cs_data['CS'], lags=40)\n",
    "    \n",
    "    # Train ARIMA model\n",
    "    model = ARIMA(sb_cs_data, order=(1,0,0))\n",
    "    model = model.fit()\n",
    "    \n",
    "    # Check if player data is available\n",
    "    if player_data.empty:\n",
    "    print(f\"No data found for player {player_name}.\")\n",
    "    else:\n",
    "    # Predict stats for 2023\n",
    "    forecast = model.predict(start=pd.to_datetime('2023-01-01'), end=pd.to_datetime('2023-12-31'), typ='levels')\n",
    "    print(f'Forecasted SB for 2023: {forecast.sum()}')\n"
   ]
  },
  {
   "cell_type": "code",
   "execution_count": 35,
   "id": "182b3a98",
   "metadata": {},
   "outputs": [
    {
     "ename": "NameError",
     "evalue": "name 'forecast' is not defined",
     "output_type": "error",
     "traceback": [
      "\u001b[1;31m---------------------------------------------------------------------------\u001b[0m",
      "\u001b[1;31mNameError\u001b[0m                                 Traceback (most recent call last)",
      "Input \u001b[1;32mIn [35]\u001b[0m, in \u001b[0;36m<cell line: 1>\u001b[1;34m()\u001b[0m\n\u001b[1;32m----> 1\u001b[0m \u001b[38;5;28mprint\u001b[39m(\u001b[38;5;124mf\u001b[39m\u001b[38;5;124m'\u001b[39m\u001b[38;5;124mForecasted SB for 2023: \u001b[39m\u001b[38;5;132;01m{\u001b[39;00mforecast\u001b[38;5;241m.\u001b[39msum()\u001b[38;5;132;01m}\u001b[39;00m\u001b[38;5;124m'\u001b[39m)\n",
      "\u001b[1;31mNameError\u001b[0m: name 'forecast' is not defined"
     ]
    }
   ],
   "source": [
    "print(f'Forecasted SB for 2023: {forecast.sum()}')"
   ]
  },
  {
   "cell_type": "code",
   "execution_count": 33,
   "id": "cee3e468",
   "metadata": {},
   "outputs": [
    {
     "name": "stdout",
     "output_type": "stream",
     "text": [
      "Enter player name: Zack Short\n"
     ]
    },
    {
     "ename": "AttributeError",
     "evalue": "'float' object has no attribute 'astype'",
     "output_type": "error",
     "traceback": [
      "\u001b[1;31m---------------------------------------------------------------------------\u001b[0m",
      "\u001b[1;31mAttributeError\u001b[0m                            Traceback (most recent call last)",
      "Input \u001b[1;32mIn [33]\u001b[0m, in \u001b[0;36m<cell line: 3>\u001b[1;34m()\u001b[0m\n\u001b[0;32m      1\u001b[0m \u001b[38;5;66;03m# Example usage\u001b[39;00m\n\u001b[0;32m      2\u001b[0m player_name \u001b[38;5;241m=\u001b[39m \u001b[38;5;28minput\u001b[39m(\u001b[38;5;124m\"\u001b[39m\u001b[38;5;124mEnter player name: \u001b[39m\u001b[38;5;124m\"\u001b[39m)\n\u001b[1;32m----> 3\u001b[0m \u001b[43mpredict_stats\u001b[49m\u001b[43m(\u001b[49m\u001b[43mplayer_name\u001b[49m\u001b[43m)\u001b[49m\n",
      "Input \u001b[1;32mIn [29]\u001b[0m, in \u001b[0;36mpredict_stats\u001b[1;34m(player_name)\u001b[0m\n\u001b[0;32m      8\u001b[0m     \u001b[38;5;28;01mreturn\u001b[39;00m \u001b[38;5;28;01mNone\u001b[39;00m\n\u001b[0;32m     10\u001b[0m \u001b[38;5;66;03m# Get the oldest age for the player\u001b[39;00m\n\u001b[1;32m---> 11\u001b[0m oldest_age \u001b[38;5;241m=\u001b[39m \u001b[43mplayer_data\u001b[49m\u001b[43m[\u001b[49m\u001b[38;5;124;43m'\u001b[39;49m\u001b[38;5;124;43mAge\u001b[39;49m\u001b[38;5;124;43m'\u001b[39;49m\u001b[43m]\u001b[49m\u001b[38;5;241;43m.\u001b[39;49m\u001b[43mmin\u001b[49m\u001b[43m(\u001b[49m\u001b[43m)\u001b[49m\u001b[38;5;241;43m.\u001b[39;49m\u001b[43mastype\u001b[49m(\u001b[38;5;28mint\u001b[39m)\n\u001b[0;32m     13\u001b[0m \u001b[38;5;66;03m# Get SB data for the player\u001b[39;00m\n\u001b[0;32m     14\u001b[0m sb_data \u001b[38;5;241m=\u001b[39m player_data[[\u001b[38;5;124m'\u001b[39m\u001b[38;5;124mSB\u001b[39m\u001b[38;5;124m'\u001b[39m]]\n",
      "\u001b[1;31mAttributeError\u001b[0m: 'float' object has no attribute 'astype'"
     ]
    }
   ],
   "source": [
    "# Example usage\n",
    "player_name = input(\"Enter player name: \")\n",
    "predict_stats(player_name)"
   ]
  },
  {
   "cell_type": "code",
   "execution_count": 40,
   "id": "45d0b2a7",
   "metadata": {},
   "outputs": [
    {
     "name": "stderr",
     "output_type": "stream",
     "text": [
      "C:\\Users\\Wyatt Baldwin\\anaconda3\\lib\\site-packages\\pybaseball\\league_batting_stats.py:70: FutureWarning: In a future version of pandas all arguments of DataFrame.drop except for the argument 'labels' will be keyword-only.\n",
      "  table = table.drop('', 1)\n"
     ]
    },
    {
     "name": "stdout",
     "output_type": "stream",
     "text": [
      "                               Name   Age   #days      G      PA      AB  \\\n",
      "0                      A.J. Burnett  38.0  2682.0   24.0    52.0    42.0   \n",
      "1                         A.J. Cole  26.0  1761.0   19.0    30.0    26.0   \n",
      "2                        A.J. Ellis  37.0  1589.0  240.0   759.0   646.0   \n",
      "3                      A.J. Griffin  29.0  2007.0    3.0     8.0     7.0   \n",
      "4                      A.J. Jimenez  27.0  1953.0    7.0    13.0    12.0   \n",
      "...                             ...   ...     ...    ...     ...     ...   \n",
      "2383                   Zack Littell  25.0   505.0    4.0     4.0     4.0   \n",
      "2384                     Zack Short  27.0   159.0   67.0   197.0   165.0   \n",
      "2385                   Zack Wheeler  31.0   495.0  102.0   226.0   208.0   \n",
      "2386      \\xc3\\x81ngel Pag\\xc3\\xa1n  34.0  2317.0  262.0  1093.0  1006.0   \n",
      "2387  \\xc3\\x93scar Hern\\xc3\\xa1ndez  26.0   918.0   25.0    51.0    46.0   \n",
      "\n",
      "          R      H    2B   3B  ...    SH   SF   GDP    SB   CS     BA    OBP  \\\n",
      "0       1.0    5.0   0.0  0.0  ...   9.0  1.0   1.0   0.0  0.0  0.119  0.116   \n",
      "1       1.0    3.0   0.0  0.0  ...   2.0  0.0   2.0   0.0  0.0  0.115  0.179   \n",
      "2      71.0  151.0  30.0  0.0  ...  11.0  3.0  17.0   2.0  1.0  0.234  0.334   \n",
      "3       0.0    0.0   0.0  0.0  ...   0.0  0.0   0.0   0.0  0.0  0.000  0.125   \n",
      "4       0.0    1.0   0.0  0.0  ...   1.0  0.0   1.0   0.0  0.0  0.083  0.083   \n",
      "...     ...    ...   ...  ...  ...   ...  ...   ...   ...  ...    ...    ...   \n",
      "2383    0.0    1.0   0.0  0.0  ...   0.0  0.0   0.0   0.0  0.0  0.250  0.250   \n",
      "2384   23.0   22.0   4.0  0.0  ...   0.0  8.0   4.0   3.0  0.0  0.133  0.234   \n",
      "2385   11.0   36.0   7.0  0.0  ...  12.0  1.0   2.0   0.0  0.0  0.173  0.192   \n",
      "2386  126.0  271.0  45.0  8.0  ...   0.0  9.0  23.0  27.0  5.0  0.269  0.317   \n",
      "2387    6.0    9.0   1.0  0.0  ...   1.0  0.0   2.0   0.0  0.0  0.196  0.260   \n",
      "\n",
      "        SLG    OPS     mlbID  \n",
      "0     0.191  0.307  150359.0  \n",
      "1     0.231  0.409  595918.0  \n",
      "2     0.355  0.689  454560.0  \n",
      "3     0.000  0.125  456167.0  \n",
      "4     0.083  0.167  543362.0  \n",
      "...     ...    ...       ...  \n",
      "2383  0.250  0.500  641793.0  \n",
      "2384  0.267  0.500  670097.0  \n",
      "2385  0.221  0.413  554430.0  \n",
      "2386  0.375  0.692  434636.0  \n",
      "2387  0.283  0.543  591712.0  \n",
      "\n",
      "[2388 rows x 26 columns]\n",
      "Enter player name: A.J. Ellis\n"
     ]
    },
    {
     "ename": "AttributeError",
     "evalue": "'float' object has no attribute 'astype'",
     "output_type": "error",
     "traceback": [
      "\u001b[1;31m---------------------------------------------------------------------------\u001b[0m",
      "\u001b[1;31mAttributeError\u001b[0m                            Traceback (most recent call last)",
      "Input \u001b[1;32mIn [40]\u001b[0m, in \u001b[0;36m<cell line: 59>\u001b[1;34m()\u001b[0m\n\u001b[0;32m     57\u001b[0m \u001b[38;5;66;03m# Example usage\u001b[39;00m\n\u001b[0;32m     58\u001b[0m player_name \u001b[38;5;241m=\u001b[39m \u001b[38;5;28minput\u001b[39m(\u001b[38;5;124m\"\u001b[39m\u001b[38;5;124mEnter player name: \u001b[39m\u001b[38;5;124m\"\u001b[39m)\n\u001b[1;32m---> 59\u001b[0m \u001b[43mpredict_stats\u001b[49m\u001b[43m(\u001b[49m\u001b[43mplayer_name\u001b[49m\u001b[43m)\u001b[49m\n",
      "Input \u001b[1;32mIn [40]\u001b[0m, in \u001b[0;36mpredict_stats\u001b[1;34m(player_name)\u001b[0m\n\u001b[0;32m     26\u001b[0m     \u001b[38;5;28;01mreturn\u001b[39;00m \u001b[38;5;28;01mNone\u001b[39;00m\n\u001b[0;32m     28\u001b[0m \u001b[38;5;66;03m# Get the oldest age for the player\u001b[39;00m\n\u001b[1;32m---> 29\u001b[0m oldest_age \u001b[38;5;241m=\u001b[39m \u001b[43mplayer_data\u001b[49m\u001b[43m[\u001b[49m\u001b[38;5;124;43m'\u001b[39;49m\u001b[38;5;124;43mAge\u001b[39;49m\u001b[38;5;124;43m'\u001b[39;49m\u001b[43m]\u001b[49m\u001b[38;5;241;43m.\u001b[39;49m\u001b[43mmin\u001b[49m\u001b[43m(\u001b[49m\u001b[43m)\u001b[49m\u001b[38;5;241;43m.\u001b[39;49m\u001b[43mastype\u001b[49m(\u001b[38;5;28mint\u001b[39m)\n\u001b[0;32m     31\u001b[0m \u001b[38;5;66;03m# Get SB data for the player\u001b[39;00m\n\u001b[0;32m     32\u001b[0m sb_data \u001b[38;5;241m=\u001b[39m player_data[[\u001b[38;5;124m'\u001b[39m\u001b[38;5;124mSB\u001b[39m\u001b[38;5;124m'\u001b[39m]]\n",
      "\u001b[1;31mAttributeError\u001b[0m: 'float' object has no attribute 'astype'"
     ]
    }
   ],
   "source": [
    "import pandas as pd\n",
    "import numpy as np\n",
    "from pybaseball import batting_stats_range\n",
    "from pybaseball import cache\n",
    "from statsmodels.tsa.arima.model import ARIMA\n",
    "from statsmodels.tsa.stattools import adfuller\n",
    "from statsmodels.graphics.tsaplots import plot_acf, plot_pacf\n",
    "\n",
    "cache.enable()\n",
    "\n",
    "# Get batting stats for specified time range from PyBaseball\n",
    "data = batting_stats_range(start_dt='2015-03-01', end_dt='2022-12-31')\n",
    "\n",
    "# Group data by Name\n",
    "grouped_data = data.groupby(by='Name').mean()\n",
    "grouped_data.reset_index(inplace=True)\n",
    "print(grouped_data)\n",
    "\n",
    "def predict_stats(player_name):\n",
    "    # Filter data for the player\n",
    "    player_data = grouped_data[grouped_data['Name'] == player_name]\n",
    "    \n",
    "    # Check if player data is available\n",
    "    if player_data.empty:\n",
    "        print(f\"No data found for player {player_name}.\")\n",
    "        return None\n",
    "    \n",
    "    # Get the oldest age for the player\n",
    "    oldest_age = player_data['Age'].min().astype(int)\n",
    "    \n",
    "    # Get SB data for the player\n",
    "    sb_data = player_data[['SB']]\n",
    "    sb_data.index = pd.date_range(start='2015-03-01', end='2022-12-31', freq='A')\n",
    "    sb_data = sb_data.resample('D').interpolate()\n",
    "    \n",
    "    # Check if the time series is stationary\n",
    "    result = adfuller(sb_data['SB'])\n",
    "    print(f'ADF Statistic: {result[0]}')\n",
    "    print(f'p-value: {result[1]}')\n",
    "    if result[1] <= 0.05:\n",
    "        print(\"Time series is stationary.\")\n",
    "    else:\n",
    "        print(\"Time series is not stationary.\")\n",
    "    \n",
    "    # Plot ACF and PACF to determine AR and MA terms\n",
    "    plot_acf(sb_data['SB'], lags=40)\n",
    "    plot_pacf(sb_data['SB'], lags=40)\n",
    "    \n",
    "    # Train ARIMA model\n",
    "    model = ARIMA(sb_data, order=(1,0,0))\n",
    "    model = model.fit()\n",
    "    \n",
    "    # Predict stats for 2023\n",
    "    forecast = model.predict(start=pd.to_datetime('2023-01-01'), end=pd.to_datetime('2023-12-31'), typ='levels')\n",
    "    print(f'Forecasted SB for 2023: {forecast.sum()}')\n",
    "    \n",
    "# Example usage\n",
    "player_name = input(\"Enter player name: \")\n",
    "predict_stats(player_name)"
   ]
  },
  {
   "cell_type": "code",
   "execution_count": null,
   "id": "8bd3313d",
   "metadata": {},
   "outputs": [],
   "source": []
  }
 ],
 "metadata": {
  "kernelspec": {
   "display_name": "Python 3 (ipykernel)",
   "language": "python",
   "name": "python3"
  },
  "language_info": {
   "codemirror_mode": {
    "name": "ipython",
    "version": 3
   },
   "file_extension": ".py",
   "mimetype": "text/x-python",
   "name": "python",
   "nbconvert_exporter": "python",
   "pygments_lexer": "ipython3",
   "version": "3.9.12"
  }
 },
 "nbformat": 4,
 "nbformat_minor": 5
}
