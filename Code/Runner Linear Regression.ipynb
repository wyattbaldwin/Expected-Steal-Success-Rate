{
 "cells": [
  {
   "cell_type": "code",
   "execution_count": 1,
   "id": "43e16719",
   "metadata": {},
   "outputs": [],
   "source": [
    "import pandas as pd\n",
    "from sklearn.linear_model import LinearRegression\n",
    "from sklearn.model_selection import train_test_split\n",
    "from sklearn.metrics import mean_squared_error\n",
    "import random"
   ]
  },
  {
   "cell_type": "code",
   "execution_count": 7,
   "id": "62585cec",
   "metadata": {},
   "outputs": [],
   "source": [
    "# Load data from spreadsheet\n",
    "data = pd.read_csv(\"running_splits.csv\", header=0)"
   ]
  },
  {
   "cell_type": "code",
   "execution_count": 17,
   "id": "64b7b2fd",
   "metadata": {},
   "outputs": [],
   "source": [
    "# Define the features and target\n",
    "X = data[['age']]\n",
    "X.columns = ['age']\n",
    "y = data[['time_at_00ft', 'time_at_05ft', 'time_at_10ft', 'time_at_15ft', 'time_at_20ft', 'time_at_25ft', 'time_at_30ft', 'time_at_35ft', 'time_at_40ft', 'time_at_45ft', 'time_at_50ft', 'time_at_55ft', 'time_at_60ft', 'time_at_65ft', 'time_at_70ft', 'time_at_75ft', 'time_at_80ft', 'time_at_85ft', 'time_at_90ft']]"
   ]
  },
  {
   "cell_type": "code",
   "execution_count": 18,
   "id": "23c1c6d7",
   "metadata": {},
   "outputs": [],
   "source": [
    "# Split data into training and testing sets\n",
    "X_train, X_test, y_train, y_test = train_test_split(X, y, test_size=0.2)"
   ]
  },
  {
   "cell_type": "code",
   "execution_count": 19,
   "id": "393f269b",
   "metadata": {},
   "outputs": [
    {
     "data": {
      "text/plain": [
       "LinearRegression()"
      ]
     },
     "execution_count": 19,
     "metadata": {},
     "output_type": "execute_result"
    }
   ],
   "source": [
    "# Train the model\n",
    "model = LinearRegression()\n",
    "model.fit(X_train, y_train)"
   ]
  },
  {
   "cell_type": "code",
   "execution_count": 20,
   "id": "64c786cd",
   "metadata": {},
   "outputs": [
    {
     "name": "stdout",
     "output_type": "stream",
     "text": [
      "Mean squared error: 0.006903399924926716\n"
     ]
    }
   ],
   "source": [
    "# Test the model\n",
    "y_pred = model.predict(X_test)\n",
    "print(\"Mean squared error:\", mean_squared_error(y_test, y_pred))"
   ]
  },
  {
   "cell_type": "code",
   "execution_count": 21,
   "id": "c55d20f3",
   "metadata": {},
   "outputs": [
    {
     "name": "stdout",
     "output_type": "stream",
     "text": [
      "Enter player's age: 23\n",
      "Enter distance in feet: 87\n"
     ]
    }
   ],
   "source": [
    "# Take user inputs for age and distance\n",
    "player_age = int(input(\"Enter player's age: \"))\n",
    "distance = int(input(\"Enter distance in feet: \"))"
   ]
  },
  {
   "cell_type": "code",
   "execution_count": 22,
   "id": "a004b0d4",
   "metadata": {},
   "outputs": [
    {
     "name": "stdout",
     "output_type": "stream",
     "text": [
      "The estimated time for player with age 23 to reach 87ft is 3.790695848931884 seconds.\n"
     ]
    },
    {
     "name": "stderr",
     "output_type": "stream",
     "text": [
      "C:\\Users\\Wyatt Baldwin\\anaconda3\\lib\\site-packages\\sklearn\\base.py:450: UserWarning: X does not have valid feature names, but LinearRegression was fitted with feature names\n",
      "  warnings.warn(\n"
     ]
    }
   ],
   "source": [
    "# Use the model to predict the time at the entered distance\n",
    "player_data = [[player_age]]\n",
    "predicted_time = model.predict(player_data)[0][distance//5]\n",
    "print(f\"The estimated time for player with age {player_age} to reach {distance}ft is {predicted_time} seconds.\")"
   ]
  },
  {
   "cell_type": "code",
   "execution_count": null,
   "id": "f3fcc93e",
   "metadata": {},
   "outputs": [],
   "source": []
  }
 ],
 "metadata": {
  "kernelspec": {
   "display_name": "Python 3 (ipykernel)",
   "language": "python",
   "name": "python3"
  },
  "language_info": {
   "codemirror_mode": {
    "name": "ipython",
    "version": 3
   },
   "file_extension": ".py",
   "mimetype": "text/x-python",
   "name": "python",
   "nbconvert_exporter": "python",
   "pygments_lexer": "ipython3",
   "version": "3.9.12"
  }
 },
 "nbformat": 4,
 "nbformat_minor": 5
}
