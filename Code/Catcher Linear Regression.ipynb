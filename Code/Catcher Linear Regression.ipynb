{
 "cells": [
  {
   "cell_type": "code",
   "execution_count": 28,
   "id": "50b20ff1",
   "metadata": {},
   "outputs": [],
   "source": [
    "import pandas as pd\n",
    "from sklearn.linear_model import LinearRegression"
   ]
  },
  {
   "cell_type": "code",
   "execution_count": 29,
   "id": "a1fdab74",
   "metadata": {},
   "outputs": [],
   "source": [
    "# Load data from the .csv file\n",
    "poptime = pd.read_csv(\"poptime.csv\")"
   ]
  },
  {
   "cell_type": "code",
   "execution_count": 30,
   "id": "968670c4",
   "metadata": {},
   "outputs": [
    {
     "name": "stdout",
     "output_type": "stream",
     "text": [
      "            catcher  player_id  team_id  age  maxeff_arm_2b_3b_sba  \\\n",
      "0       Matt Thaiss        NaN      108   27                  83.9   \n",
      "1     J.T. Realmuto        NaN      143   31                  87.6   \n",
      "2        Elias Díaz        NaN      115   31                  84.8   \n",
      "3        Will Smith        NaN      119   27                  83.6   \n",
      "4  Chuckie Robinson        NaN      113   27                  86.3   \n",
      "\n",
      "   exchange_2b_3b_sba  pop_2b_sba_count  pop_2b_sba  pop_2b_cs  pop_2b_sb  \\\n",
      "0                0.79                 5        1.99       1.82       2.03   \n",
      "1                0.67                44        1.82       1.83       1.82   \n",
      "2                0.72                29        1.94       1.87       1.97   \n",
      "3                0.71                32        1.93       1.88       1.94   \n",
      "4                0.73                11        1.90       1.89       1.90   \n",
      "\n",
      "   pop_3b_sba_count  pop_3b_sba  pop_3b_cs  pop_3b_sb  \n",
      "0                 0         NaN        NaN        NaN  \n",
      "1                 1        1.40        NaN       1.40  \n",
      "2                 5        1.43        1.4       1.44  \n",
      "3                 2        1.51        NaN       1.51  \n",
      "4                 1        1.54        NaN       1.54  \n"
     ]
    }
   ],
   "source": [
    "# Print the first 5 rows of the data\n",
    "print(poptime.head())"
   ]
  },
  {
   "cell_type": "code",
   "execution_count": 31,
   "id": "a24fdb5d",
   "metadata": {},
   "outputs": [
    {
     "name": "stdout",
     "output_type": "stream",
     "text": [
      "Enter catcher name or team id: Will Smith\n"
     ]
    }
   ],
   "source": [
    "# Filter data by catcher name or team\n",
    "catcher_name_or_team = input(\"Enter catcher name or team id: \")\n",
    "\n",
    "if catcher_name_or_team.isdigit():\n",
    "    poptime = poptime[poptime['team_id'] == int(catcher_name_or_team)]\n",
    "else:\n",
    "    poptime = poptime[poptime['catcher'] == catcher_name_or_team]"
   ]
  },
  {
   "cell_type": "code",
   "execution_count": 32,
   "id": "8d1f9574",
   "metadata": {},
   "outputs": [
    {
     "name": "stdout",
     "output_type": "stream",
     "text": [
      "Filtered data shape: (1, 14)\n"
     ]
    }
   ],
   "source": [
    "# Check the shape of the filtered data\n",
    "print(\"Filtered data shape:\", poptime.shape)"
   ]
  },
  {
   "cell_type": "code",
   "execution_count": 33,
   "id": "4dcd0dc3",
   "metadata": {},
   "outputs": [],
   "source": [
    "# Add distance_home_to_3b column to the dataframe\n",
    "poptime['distance_home_to_3b'] = 27.432"
   ]
  },
  {
   "cell_type": "code",
   "execution_count": 34,
   "id": "bed5e710",
   "metadata": {},
   "outputs": [],
   "source": [
    "# Define variables for the pop time for 2nd and 3rd base steal attempts\n",
    "pop_2b_cs = poptime['pop_2b_sba'].iloc[0]\n",
    "pop_3b_cs = poptime['pop_3b_sba'].iloc[0]"
   ]
  },
  {
   "cell_type": "code",
   "execution_count": 35,
   "id": "4139ce9b",
   "metadata": {},
   "outputs": [],
   "source": [
    "# Select relevant features for 2nd base steal attempts\n",
    "X = poptime[['maxeff_arm_2b_3b_sba', 'exchange_2b_3b_sba']]\n",
    "y = poptime['pop_2b_sba']"
   ]
  },
  {
   "cell_type": "code",
   "execution_count": 36,
   "id": "07ce7f39",
   "metadata": {},
   "outputs": [
    {
     "name": "stdout",
     "output_type": "stream",
     "text": [
      "Feature matrix shape: (1, 2)\n"
     ]
    }
   ],
   "source": [
    "# Check the shape of the feature matrix\n",
    "print(\"Feature matrix shape:\", X.shape)"
   ]
  },
  {
   "cell_type": "code",
   "execution_count": 37,
   "id": "7957c083",
   "metadata": {},
   "outputs": [],
   "source": [
    "# Create a linear regression model and fit it to the data\n",
    "reg = LinearRegression().fit(X, y)"
   ]
  },
  {
   "cell_type": "code",
   "execution_count": 38,
   "id": "33db686e",
   "metadata": {},
   "outputs": [],
   "source": [
    "# Select relevant features for 3rd base steal attempts\n",
    "X_3b = poptime[['maxeff_arm_2b_3b_sba', 'exchange_2b_3b_sba', 'distance_home_to_3b']]\n",
    "y_3b = poptime['pop_3b_sba']"
   ]
  },
  {
   "cell_type": "code",
   "execution_count": 39,
   "id": "3f3e9d4c",
   "metadata": {},
   "outputs": [
    {
     "name": "stdout",
     "output_type": "stream",
     "text": [
      "Enter the situation (1-10, with 10 being extra innings and 1 being the first inning): 7\n"
     ]
    }
   ],
   "source": [
    "# Get the situation input from the user\n",
    "situation = input(\"Enter the situation (1-10, with 10 being extra innings and 1 being the first inning): \")\n",
    "situation = int(situation)"
   ]
  },
  {
   "cell_type": "code",
   "execution_count": 40,
   "id": "049596fe",
   "metadata": {},
   "outputs": [
    {
     "name": "stderr",
     "output_type": "stream",
     "text": [
      "C:\\Users\\Wyatt Baldwin\\AppData\\Local\\Temp\\ipykernel_7700\\1852117671.py:3: SettingWithCopyWarning: \n",
      "A value is trying to be set on a copy of a slice from a DataFrame.\n",
      "Try using .loc[row_indexer,col_indexer] = value instead\n",
      "\n",
      "See the caveats in the documentation: https://pandas.pydata.org/pandas-docs/stable/user_guide/indexing.html#returning-a-view-versus-a-copy\n",
      "  X['maxeff_arm_2b_3b_sba'] = X['maxeff_arm_2b_3b_sba'] * speed_factor\n"
     ]
    }
   ],
   "source": [
    "# Modify maxeff_arm_2b_3b_sba based on the situation input\n",
    "speed_factor = 1 + (situation - 5) * 0.1\n",
    "X['maxeff_arm_2b_3b_sba'] = X['maxeff_arm_2b_3b_sba'] * speed_factor"
   ]
  },
  {
   "cell_type": "code",
   "execution_count": 41,
   "id": "f7371e33",
   "metadata": {},
   "outputs": [
    {
     "name": "stdout",
     "output_type": "stream",
     "text": [
      "Predicted pop time for 2nd base steal attempts: 1.93\n"
     ]
    }
   ],
   "source": [
    "# Predict the pop time for 2nd base steal attempts\n",
    "prediction = reg.predict(X)\n",
    "print(\"Predicted pop time for 2nd base steal attempts:\", prediction[0])"
   ]
  },
  {
   "cell_type": "code",
   "execution_count": 42,
   "id": "594b5396",
   "metadata": {},
   "outputs": [
    {
     "name": "stdout",
     "output_type": "stream",
     "text": [
      "Actual pop time for Successfully throwing out a runner at 2nd base: 1.88\n"
     ]
    }
   ],
   "source": [
    "# Define the actual pop time for successfully throwing out a runner at 2nd base\n",
    "pop_2b_cs = poptime['pop_2b_cs'].mean()\n",
    "print(\"Actual pop time for Successfully throwing out a runner at 2nd base:\", pop_2b_cs)"
   ]
  },
  {
   "cell_type": "code",
   "execution_count": 43,
   "id": "96123f4a",
   "metadata": {},
   "outputs": [],
   "source": [
    "# Select relevant features for 3rd base steal attempts\n",
    "X_3b = poptime[['maxeff_arm_2b_3b_sba', 'exchange_2b_3b_sba', 'distance_home_to_3b']]\n",
    "y_3b = poptime['pop_3b_sba']"
   ]
  },
  {
   "cell_type": "code",
   "execution_count": 44,
   "id": "da719ee5",
   "metadata": {},
   "outputs": [
    {
     "name": "stdout",
     "output_type": "stream",
     "text": [
      "Feature matrix shape for 3rd base steal attempts: (1, 3)\n"
     ]
    }
   ],
   "source": [
    "# Check the shape of the feature matrix for 3rd base steal attempts\n",
    "print(\"Feature matrix shape for 3rd base steal attempts:\", X_3b.shape)"
   ]
  },
  {
   "cell_type": "code",
   "execution_count": 45,
   "id": "ca0a9cf4",
   "metadata": {},
   "outputs": [],
   "source": [
    "# Create a new linear regression model for 3rd base steal attempts and fit it to the data\n",
    "reg_3b = LinearRegression().fit(X_3b, y_3b)"
   ]
  },
  {
   "cell_type": "code",
   "execution_count": 46,
   "id": "156f1299",
   "metadata": {},
   "outputs": [
    {
     "name": "stdout",
     "output_type": "stream",
     "text": [
      "Predicted pop time for 3rd base steal attempts: 1.51\n"
     ]
    }
   ],
   "source": [
    "# Predict the pop time for 3rd base steal attempts\n",
    "prediction_3b = reg_3b.predict(X_3b)\n",
    "print(\"Predicted pop time for 3rd base steal attempts:\", prediction_3b[0])"
   ]
  },
  {
   "cell_type": "code",
   "execution_count": 47,
   "id": "bb173eba",
   "metadata": {},
   "outputs": [
    {
     "name": "stdout",
     "output_type": "stream",
     "text": [
      "Actual pop time for Successfully throwing out a runner at 3nd base: 1.51\n"
     ]
    }
   ],
   "source": [
    "# Define the actual pop time for successfully throwing out a runner at 2nd base\n",
    "pop_2b_cs = poptime['pop_3b_cs'].mean()\n",
    "print(\"Actual pop time for Successfully throwing out a runner at 3nd base:\", pop_3b_cs)"
   ]
  },
  {
   "cell_type": "code",
   "execution_count": null,
   "id": "45f172e9",
   "metadata": {},
   "outputs": [],
   "source": []
  }
 ],
 "metadata": {
  "kernelspec": {
   "display_name": "Python 3 (ipykernel)",
   "language": "python",
   "name": "python3"
  },
  "language_info": {
   "codemirror_mode": {
    "name": "ipython",
    "version": 3
   },
   "file_extension": ".py",
   "mimetype": "text/x-python",
   "name": "python",
   "nbconvert_exporter": "python",
   "pygments_lexer": "ipython3",
   "version": "3.9.12"
  }
 },
 "nbformat": 4,
 "nbformat_minor": 5
}
